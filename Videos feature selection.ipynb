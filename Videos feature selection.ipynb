{
 "cells": [
  {
   "cell_type": "markdown",
   "metadata": {},
   "source": [
    "## Import the various packages"
   ]
  },
  {
   "cell_type": "code",
   "execution_count": 20,
   "metadata": {},
   "outputs": [],
   "source": [
    "import pandas as pd\n",
    "import numpy as np\n",
    "from sklearn.model_selection import train_test_split\n",
    "from sklearn.feature_selection import SelectPercentile\n",
    "from sklearn.feature_selection import VarianceThreshold\n",
    "import matplotlib.pyplot as plt\n",
    "%matplotlib inline"
   ]
  },
  {
   "cell_type": "markdown",
   "metadata": {},
   "source": [
    "## Import the videos file"
   ]
  },
  {
   "cell_type": "code",
   "execution_count": 21,
   "metadata": {
    "scrolled": true
   },
   "outputs": [],
   "source": [
    "## read in the videos csv file\n",
    "\n",
    "vid_df = pd.read_csv('FYMarksMinutes2.csv')\n",
    "\n",
    "## create the features dataframe by extracting the first 80 columns\n",
    "vid_feat = vid_df.iloc[:,0:80]\n",
    "\n",
    "# create the target by extracting the last column\n",
    "vid_targ = vid_df.iloc[:,-1]\n"
   ]
  },
  {
   "cell_type": "markdown",
   "metadata": {},
   "source": [
    "## Do some exploratory data analysis.  First we look at the stats"
   ]
  },
  {
   "cell_type": "code",
   "execution_count": 65,
   "metadata": {
    "scrolled": true
   },
   "outputs": [
    {
     "data": {
      "text/html": [
       "<div>\n",
       "<style scoped>\n",
       "    .dataframe tbody tr th:only-of-type {\n",
       "        vertical-align: middle;\n",
       "    }\n",
       "\n",
       "    .dataframe tbody tr th {\n",
       "        vertical-align: top;\n",
       "    }\n",
       "\n",
       "    .dataframe thead th {\n",
       "        text-align: right;\n",
       "    }\n",
       "</style>\n",
       "<table border=\"1\" class=\"dataframe\">\n",
       "  <thead>\n",
       "    <tr style=\"text-align: right;\">\n",
       "      <th></th>\n",
       "      <th>1</th>\n",
       "      <th>2</th>\n",
       "      <th>3</th>\n",
       "      <th>4</th>\n",
       "      <th>5</th>\n",
       "      <th>6</th>\n",
       "      <th>7</th>\n",
       "      <th>8</th>\n",
       "      <th>9</th>\n",
       "      <th>10</th>\n",
       "      <th>...</th>\n",
       "      <th>71</th>\n",
       "      <th>72</th>\n",
       "      <th>73</th>\n",
       "      <th>74</th>\n",
       "      <th>75</th>\n",
       "      <th>76</th>\n",
       "      <th>77</th>\n",
       "      <th>78</th>\n",
       "      <th>79</th>\n",
       "      <th>80</th>\n",
       "    </tr>\n",
       "  </thead>\n",
       "  <tbody>\n",
       "    <tr>\n",
       "      <th>count</th>\n",
       "      <td>712.000000</td>\n",
       "      <td>712.000000</td>\n",
       "      <td>712.000000</td>\n",
       "      <td>712.000000</td>\n",
       "      <td>712.000000</td>\n",
       "      <td>712.000000</td>\n",
       "      <td>712.000000</td>\n",
       "      <td>712.000000</td>\n",
       "      <td>712.000000</td>\n",
       "      <td>712.000000</td>\n",
       "      <td>...</td>\n",
       "      <td>712.000000</td>\n",
       "      <td>712.000000</td>\n",
       "      <td>712.000000</td>\n",
       "      <td>712.000000</td>\n",
       "      <td>712.000000</td>\n",
       "      <td>712.000000</td>\n",
       "      <td>712.000000</td>\n",
       "      <td>712.000000</td>\n",
       "      <td>712.000000</td>\n",
       "      <td>712.000000</td>\n",
       "    </tr>\n",
       "    <tr>\n",
       "      <th>mean</th>\n",
       "      <td>0.621946</td>\n",
       "      <td>0.532912</td>\n",
       "      <td>0.538916</td>\n",
       "      <td>0.598545</td>\n",
       "      <td>0.609287</td>\n",
       "      <td>0.634968</td>\n",
       "      <td>0.623486</td>\n",
       "      <td>0.198323</td>\n",
       "      <td>0.882524</td>\n",
       "      <td>0.428481</td>\n",
       "      <td>...</td>\n",
       "      <td>0.203423</td>\n",
       "      <td>0.310790</td>\n",
       "      <td>0.445735</td>\n",
       "      <td>0.370372</td>\n",
       "      <td>0.314818</td>\n",
       "      <td>0.423229</td>\n",
       "      <td>0.256460</td>\n",
       "      <td>0.283405</td>\n",
       "      <td>0.341437</td>\n",
       "      <td>0.310429</td>\n",
       "    </tr>\n",
       "    <tr>\n",
       "      <th>std</th>\n",
       "      <td>0.948981</td>\n",
       "      <td>0.855915</td>\n",
       "      <td>0.878434</td>\n",
       "      <td>0.942386</td>\n",
       "      <td>0.921476</td>\n",
       "      <td>0.905007</td>\n",
       "      <td>0.937404</td>\n",
       "      <td>0.379432</td>\n",
       "      <td>1.449065</td>\n",
       "      <td>0.781260</td>\n",
       "      <td>...</td>\n",
       "      <td>0.399286</td>\n",
       "      <td>0.568949</td>\n",
       "      <td>0.627356</td>\n",
       "      <td>0.558933</td>\n",
       "      <td>0.568399</td>\n",
       "      <td>0.614797</td>\n",
       "      <td>0.540578</td>\n",
       "      <td>0.558874</td>\n",
       "      <td>0.564088</td>\n",
       "      <td>0.638683</td>\n",
       "    </tr>\n",
       "    <tr>\n",
       "      <th>min</th>\n",
       "      <td>0.000000</td>\n",
       "      <td>0.000000</td>\n",
       "      <td>0.000000</td>\n",
       "      <td>0.000000</td>\n",
       "      <td>0.000000</td>\n",
       "      <td>0.000000</td>\n",
       "      <td>0.000000</td>\n",
       "      <td>0.000000</td>\n",
       "      <td>0.000000</td>\n",
       "      <td>0.000000</td>\n",
       "      <td>...</td>\n",
       "      <td>0.000000</td>\n",
       "      <td>0.000000</td>\n",
       "      <td>0.000000</td>\n",
       "      <td>0.000000</td>\n",
       "      <td>0.000000</td>\n",
       "      <td>0.000000</td>\n",
       "      <td>0.000000</td>\n",
       "      <td>0.000000</td>\n",
       "      <td>0.000000</td>\n",
       "      <td>0.000000</td>\n",
       "    </tr>\n",
       "    <tr>\n",
       "      <th>25%</th>\n",
       "      <td>0.000000</td>\n",
       "      <td>0.000000</td>\n",
       "      <td>0.000000</td>\n",
       "      <td>0.000000</td>\n",
       "      <td>0.000000</td>\n",
       "      <td>0.000000</td>\n",
       "      <td>0.000000</td>\n",
       "      <td>0.000000</td>\n",
       "      <td>0.000000</td>\n",
       "      <td>0.000000</td>\n",
       "      <td>...</td>\n",
       "      <td>0.000000</td>\n",
       "      <td>0.000000</td>\n",
       "      <td>0.000000</td>\n",
       "      <td>0.000000</td>\n",
       "      <td>0.000000</td>\n",
       "      <td>0.000000</td>\n",
       "      <td>0.000000</td>\n",
       "      <td>0.000000</td>\n",
       "      <td>0.000000</td>\n",
       "      <td>0.000000</td>\n",
       "    </tr>\n",
       "    <tr>\n",
       "      <th>50%</th>\n",
       "      <td>0.000000</td>\n",
       "      <td>0.000000</td>\n",
       "      <td>0.000000</td>\n",
       "      <td>0.000000</td>\n",
       "      <td>0.000000</td>\n",
       "      <td>0.000000</td>\n",
       "      <td>0.000000</td>\n",
       "      <td>0.000000</td>\n",
       "      <td>0.000000</td>\n",
       "      <td>0.000000</td>\n",
       "      <td>...</td>\n",
       "      <td>0.000000</td>\n",
       "      <td>0.000000</td>\n",
       "      <td>0.000000</td>\n",
       "      <td>0.000000</td>\n",
       "      <td>0.000000</td>\n",
       "      <td>0.000000</td>\n",
       "      <td>0.000000</td>\n",
       "      <td>0.000000</td>\n",
       "      <td>0.000000</td>\n",
       "      <td>0.000000</td>\n",
       "    </tr>\n",
       "    <tr>\n",
       "      <th>75%</th>\n",
       "      <td>1.001337</td>\n",
       "      <td>1.000461</td>\n",
       "      <td>1.000674</td>\n",
       "      <td>0.998138</td>\n",
       "      <td>1.000246</td>\n",
       "      <td>1.000431</td>\n",
       "      <td>1.000744</td>\n",
       "      <td>0.355074</td>\n",
       "      <td>1.843471</td>\n",
       "      <td>0.969519</td>\n",
       "      <td>...</td>\n",
       "      <td>0.211608</td>\n",
       "      <td>0.574640</td>\n",
       "      <td>0.999995</td>\n",
       "      <td>0.991386</td>\n",
       "      <td>0.700227</td>\n",
       "      <td>0.998633</td>\n",
       "      <td>0.045712</td>\n",
       "      <td>0.272860</td>\n",
       "      <td>0.968338</td>\n",
       "      <td>0.252539</td>\n",
       "    </tr>\n",
       "    <tr>\n",
       "      <th>max</th>\n",
       "      <td>7.661943</td>\n",
       "      <td>6.006252</td>\n",
       "      <td>6.241262</td>\n",
       "      <td>9.652560</td>\n",
       "      <td>5.981698</td>\n",
       "      <td>6.076791</td>\n",
       "      <td>7.372793</td>\n",
       "      <td>2.704304</td>\n",
       "      <td>11.599915</td>\n",
       "      <td>7.059483</td>\n",
       "      <td>...</td>\n",
       "      <td>3.006277</td>\n",
       "      <td>4.005868</td>\n",
       "      <td>4.001116</td>\n",
       "      <td>3.327058</td>\n",
       "      <td>4.000648</td>\n",
       "      <td>3.753324</td>\n",
       "      <td>5.473231</td>\n",
       "      <td>5.031521</td>\n",
       "      <td>3.894914</td>\n",
       "      <td>5.332062</td>\n",
       "    </tr>\n",
       "  </tbody>\n",
       "</table>\n",
       "<p>8 rows × 80 columns</p>\n",
       "</div>"
      ],
      "text/plain": [
       "                1           2           3           4           5           6  \\\n",
       "count  712.000000  712.000000  712.000000  712.000000  712.000000  712.000000   \n",
       "mean     0.621946    0.532912    0.538916    0.598545    0.609287    0.634968   \n",
       "std      0.948981    0.855915    0.878434    0.942386    0.921476    0.905007   \n",
       "min      0.000000    0.000000    0.000000    0.000000    0.000000    0.000000   \n",
       "25%      0.000000    0.000000    0.000000    0.000000    0.000000    0.000000   \n",
       "50%      0.000000    0.000000    0.000000    0.000000    0.000000    0.000000   \n",
       "75%      1.001337    1.000461    1.000674    0.998138    1.000246    1.000431   \n",
       "max      7.661943    6.006252    6.241262    9.652560    5.981698    6.076791   \n",
       "\n",
       "                7           8           9          10     ...              71  \\\n",
       "count  712.000000  712.000000  712.000000  712.000000     ...      712.000000   \n",
       "mean     0.623486    0.198323    0.882524    0.428481     ...        0.203423   \n",
       "std      0.937404    0.379432    1.449065    0.781260     ...        0.399286   \n",
       "min      0.000000    0.000000    0.000000    0.000000     ...        0.000000   \n",
       "25%      0.000000    0.000000    0.000000    0.000000     ...        0.000000   \n",
       "50%      0.000000    0.000000    0.000000    0.000000     ...        0.000000   \n",
       "75%      1.000744    0.355074    1.843471    0.969519     ...        0.211608   \n",
       "max      7.372793    2.704304   11.599915    7.059483     ...        3.006277   \n",
       "\n",
       "               72          73          74          75          76          77  \\\n",
       "count  712.000000  712.000000  712.000000  712.000000  712.000000  712.000000   \n",
       "mean     0.310790    0.445735    0.370372    0.314818    0.423229    0.256460   \n",
       "std      0.568949    0.627356    0.558933    0.568399    0.614797    0.540578   \n",
       "min      0.000000    0.000000    0.000000    0.000000    0.000000    0.000000   \n",
       "25%      0.000000    0.000000    0.000000    0.000000    0.000000    0.000000   \n",
       "50%      0.000000    0.000000    0.000000    0.000000    0.000000    0.000000   \n",
       "75%      0.574640    0.999995    0.991386    0.700227    0.998633    0.045712   \n",
       "max      4.005868    4.001116    3.327058    4.000648    3.753324    5.473231   \n",
       "\n",
       "               78          79          80  \n",
       "count  712.000000  712.000000  712.000000  \n",
       "mean     0.283405    0.341437    0.310429  \n",
       "std      0.558874    0.564088    0.638683  \n",
       "min      0.000000    0.000000    0.000000  \n",
       "25%      0.000000    0.000000    0.000000  \n",
       "50%      0.000000    0.000000    0.000000  \n",
       "75%      0.272860    0.968338    0.252539  \n",
       "max      5.031521    3.894914    5.332062  \n",
       "\n",
       "[8 rows x 80 columns]"
      ]
     },
     "execution_count": 65,
     "metadata": {},
     "output_type": "execute_result"
    }
   ],
   "source": [
    "## here we simply look at the stats for each feature,  This includes\n",
    "## number, mean, std dev and maximum value.\n",
    "vid_stats = vid_feat.describe()\n",
    "\n",
    "vid_stats"
   ]
  },
  {
   "cell_type": "markdown",
   "metadata": {},
   "source": [
    "## Correlation tests with heatmap"
   ]
  },
  {
   "cell_type": "code",
   "execution_count": 23,
   "metadata": {},
   "outputs": [
    {
     "data": {
      "text/plain": [
       "<matplotlib.image.AxesImage at 0xb6c8f28>"
      ]
     },
     "execution_count": 23,
     "metadata": {},
     "output_type": "execute_result"
    },
    {
     "data": {
      "image/png": "[encoded data removed]",
      "text/plain": [
       "<Figure size 288x288 with 1 Axes>"
      ]
     },
     "metadata": {},
     "output_type": "display_data"
    }
   ],
   "source": [
    "correl = vid_feat.corr()\n",
    "plt.matshow(correl)"
   ]
  },
  {
   "cell_type": "markdown",
   "metadata": {},
   "source": [
    "## We can split up the data to train and test"
   ]
  },
  {
   "cell_type": "code",
   "execution_count": 24,
   "metadata": {
    "scrolled": true
   },
   "outputs": [
    {
     "name": "stdout",
     "output_type": "stream",
     "text": [
      "X_test shape is(178, 80) \n",
      "y_test shape is(178,)\n",
      "X_train shape is(534, 80)\n",
      "y_train shape is(534,)\n"
     ]
    }
   ],
   "source": [
    "## univariate statistics\n",
    "##  correlation, anova\n",
    "## set up the train and test data\n",
    "X_train, X_test, y_train, y_test = train_test_split(vid_feat, vid_targ, random_state = 0)\n",
    "\n",
    "print('X_test shape is{} '.format(X_test.shape))\n",
    "print('y_test shape is{}'.format(y_test.shape))\n",
    "print('X_train shape is{}'.format(X_train.shape))\n",
    "print('y_train shape is{}'.format(y_train.shape))"
   ]
  },
  {
   "cell_type": "markdown",
   "metadata": {},
   "source": [
    "## Implement SelectPercentile which is to choose features in the model that has the highest\n",
    "## f-value in an ANOVA test "
   ]
  },
  {
   "cell_type": "code",
   "execution_count": 25,
   "metadata": {
    "scrolled": true
   },
   "outputs": [],
   "source": [
    "## implement the Univariate thing\n",
    "\n",
    "select =  SelectPercentile(percentile = 10)  ## instantiate the model, create an instance\n",
    "#select.fit(X_train, y_train)\n",
    "select.fit(vid_feat,vid_targ)\n",
    "#X_train_selected = select.transform(X_train)\n",
    "feat_sel = select.transform(vid_feat)\n",
    "\n",
    "#print('X train shape: {}'.format(X_train.shape))\n",
    "#print('X train sel shape: {}'.format(X_train_selected.shape))"
   ]
  },
  {
   "cell_type": "code",
   "execution_count": 26,
   "metadata": {
    "scrolled": true
   },
   "outputs": [
    {
     "name": "stdout",
     "output_type": "stream",
     "text": [
      "[False False False False False False False False False False False False\n",
      " False False  True False False  True False False False False False False\n",
      "  True False False False False False False False False False False False\n",
      " False False False  True  True False False False False False False False\n",
      " False False False False False False False False False  True False False\n",
      "  True  True False False False False False False False False False False\n",
      " False False False False False False False False]\n"
     ]
    },
    {
     "data": {
      "text/plain": [
       "array([14, 17, 24, 39, 40, 57, 60, 61], dtype=int64)"
      ]
     },
     "execution_count": 26,
     "metadata": {},
     "output_type": "execute_result"
    },
    {
     "data": {
      "image/png": "[encoded data removed]",
      "text/plain": [
       "<Figure size 1152x144 with 1 Axes>"
      ]
     },
     "metadata": {},
     "output_type": "display_data"
    }
   ],
   "source": [
    "#print out the results for the feature selection method\n",
    "mask = select.get_support()\n",
    "print(mask)\n",
    "plt.matshow(mask.reshape(1,-1), cmap = 'gray_r')\n",
    "np.where(mask)[0]  ## this pulls out the index of the "
   ]
  },
  {
   "cell_type": "code",
   "execution_count": 27,
   "metadata": {},
   "outputs": [],
   "source": [
    "from sklearn.feature_selection import SelectKBest\n",
    "from sklearn.feature_selection import chi2\n",
    "from sklearn.feature_selection import mutual_info_classif\n",
    "\n",
    "\n"
   ]
  },
  {
   "cell_type": "code",
   "execution_count": 28,
   "metadata": {
    "scrolled": true
   },
   "outputs": [
    {
     "name": "stdout",
     "output_type": "stream",
     "text": [
      "[False False False  True False False False False  True False False  True\n",
      " False False  True False False  True False False False False False False\n",
      " False False False False False False False False False False False False\n",
      " False False False False  True False False False False False False False\n",
      " False False False False False  True False False False  True False  True\n",
      "  True False False False False False False False False False False False\n",
      " False False False False False False False False]\n"
     ]
    },
    {
     "data": {
      "text/plain": [
       "array([ 3,  8, 11, 14, 17, 40, 53, 57, 59, 60], dtype=int64)"
      ]
     },
     "execution_count": 28,
     "metadata": {},
     "output_type": "execute_result"
    },
    {
     "data": {
      "image/png": "[encoded data removed]",
      "text/plain": [
       "<Figure size 1152x144 with 1 Axes>"
      ]
     },
     "metadata": {},
     "output_type": "display_data"
    }
   ],
   "source": [
    "## Use SelectKBest with various statistical tests\n",
    "## such as chi^2 and ANOVA F-test\n",
    "##  I WILL MAKE USE OF SELECTKBEST FOR NOW\n",
    "select2 = SelectKBest(chi2, k = 10)\n",
    "select2.fit(X_train,y_train)\n",
    "\n",
    "X_train_reduced = select2.transform(X_train)\n",
    "mask2 = select2.get_support()\n",
    "print(mask2)\n",
    "plt.matshow(mask2.reshape(1,-1), cmap = 'gray_r')\n",
    "np.where(mask2)[0]  ## this pulls out the index of the "
   ]
  },
  {
   "cell_type": "markdown",
   "metadata": {},
   "source": [
    "##  Compare baseline models with all features and top 10 features\n",
    "## We will use logistic regression as our baseline"
   ]
  },
  {
   "cell_type": "code",
   "execution_count": 15,
   "metadata": {},
   "outputs": [],
   "source": [
    "from sklearn.linear_model import LinearRegression"
   ]
  },
  {
   "cell_type": "code",
   "execution_count": 29,
   "metadata": {
    "scrolled": true
   },
   "outputs": [
    {
     "name": "stdout",
     "output_type": "stream",
     "text": [
      "The shape of X_train is (534, 80)\n",
      "The shape of X_reduced is(534, 10)\n"
     ]
    }
   ],
   "source": [
    "##  Just look at the shapes of the two DFs\n",
    "print('The shape of X_train is {}'.format(X_train.shape))\n",
    "print('The shape of X_reduced is{}'.format(X_train_reduced.shape))"
   ]
  },
  {
   "cell_type": "code",
   "execution_count": 32,
   "metadata": {
    "scrolled": true
   },
   "outputs": [
    {
     "name": "stdout",
     "output_type": "stream",
     "text": [
      "Score of LR on original features-0.018\n",
      "R2 of LR on reduced features : -0.070293 \n",
      "Adjusted R2 of LR on reduced features:-0.259307 \n"
     ]
    }
   ],
   "source": [
    "##  instantiate and fit logreg\n",
    "## we need to first also transform X_test into the same number of features\n",
    "X_test_reduced = select2.transform(X_test)\n",
    "\n",
    "linreg = LinearRegression()\n",
    "linreg.fit(X_train, y_train)  #  training on the original training set\n",
    "print('Score of LR on original features{:.3f}'.format(linreg.score(X_test, y_test)))\n",
    "\n",
    "\n",
    "\n",
    "## TRAIN LINREG ON REDUCED DATA\n",
    "linreg.fit(X_train_reduced, y_train)\n",
    "# NEED TO CALCULATE THE ADJUSTED R2 VALUE\n",
    "\n",
    "n = X_train.shape[0]\n",
    "p = X_train.shape[1]\n",
    "\n",
    "R2 = linreg.score(X_test_reduced, y_test)\n",
    "\n",
    "adjR2 = 1-(1-R2)*(n-1)/(n-p-1)\n",
    "print('R2 of LR on reduced features : %f ' %R2)\n",
    "print('Adjusted R2 of LR on reduced features:%f ' %adjR2 )\n",
    "\n",
    "\n"
   ]
  },
  {
   "cell_type": "markdown",
   "metadata": {},
   "source": [
    "##  Model based feature selection"
   ]
  },
  {
   "cell_type": "code",
   "execution_count": 56,
   "metadata": {
    "scrolled": true
   },
   "outputs": [],
   "source": [
    "from sklearn.feature_selection import SelectFromModel\n",
    "from sklearn.ensemble import RandomForestClassifier\n",
    "from sklearn.linear_model import LinearRegression"
   ]
  },
  {
   "cell_type": "code",
   "execution_count": 60,
   "metadata": {
    "scrolled": true
   },
   "outputs": [
    {
     "name": "stdout",
     "output_type": "stream",
     "text": [
      "X_train shape  (534, 80)\n",
      "X_train_s (534, 40)\n"
     ]
    }
   ],
   "source": [
    "select3 = SelectFromModel(RandomForestClassifier(n_estimators = 100, random_state = 42), threshold = 'median')\n",
    "select3.fit(X_train, y_train)\n",
    "X_train_s = select3.transform(X_train)\n",
    "print('X_train shape ', X_train.shape)\n",
    "print('X_train_s', X_train_s.shape)"
   ]
  },
  {
   "cell_type": "code",
   "execution_count": 61,
   "metadata": {
    "scrolled": true
   },
   "outputs": [
    {
     "data": {
      "text/plain": [
       "Text(0.5,0,'Index of features')"
      ]
     },
     "execution_count": 61,
     "metadata": {},
     "output_type": "execute_result"
    },
    {
     "data": {
      "image/png": "[encoded data removed]",
      "text/plain": [
       "<Figure size 1152x144 with 1 Axes>"
      ]
     },
     "metadata": {},
     "output_type": "display_data"
    }
   ],
   "source": [
    "mask = select3.get_support()\n",
    "plt.matshow(mask.reshape(1,-1), cmap ='gray_r')\n",
    "plt.xlabel('Index of features')"
   ]
  },
  {
   "cell_type": "code",
   "execution_count": 62,
   "metadata": {},
   "outputs": [
    {
     "name": "stdout",
     "output_type": "stream",
     "text": [
      "Log reg score of reduced set is -0.018009030660836034\n"
     ]
    }
   ],
   "source": [
    "X_test_s = select3.transform(X_test)\n",
    "score = LinearRegression().fit(X_train_s, y_train).score(X_test_s, y_test)\n",
    "print('Log reg score of reduced set is {}'.format(score))"
   ]
  }
 ],
 "metadata": {
  "kernelspec": {
   "display_name": "Python 3",
   "language": "python",
   "name": "python3"
  },
  "language_info": {
   "codemirror_mode": {
    "name": "ipython",
    "version": 3
   },
   "file_extension": ".py",
   "mimetype": "text/x-python",
   "name": "python",
   "nbconvert_exporter": "python",
   "pygments_lexer": "ipython3",
   "version": "3.6.5"
  }
 },
 "nbformat": 4,
 "nbformat_minor": 2
}
