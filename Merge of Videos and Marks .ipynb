{
 "cells": [
  {
   "cell_type": "markdown",
   "metadata": {},
   "source": [
    "#  This exercise shows how to take the videos file and the marks file and merge them based on the student number.  \n",
    "\n",
    "The aim of this exercise is merge two files, one containing student number and marks, and the other containing student number and minutes videos watched.  I want to align these two datasets so that I can have the minutes watched and marks aligned\n"
   ]
  },
  {
   "cell_type": "code",
   "execution_count": 2,
   "metadata": {
    "scrolled": true
   },
   "outputs": [],
   "source": [
    "import pandas as pd\n",
    "import numpy as np\n",
    "import matplotlib.pyplot as plt"
   ]
  },
  {
   "cell_type": "code",
   "execution_count": 11,
   "metadata": {},
   "outputs": [],
   "source": [
    "## Read cvs files in.\n",
    "##  I needed to include the \"encoding\" argument because it wasnt reading it in.  I dont know what it means.\n",
    "\n",
    "marks = pd.read_csv('2017MarksPrac.csv',encoding='windows-1252')\n",
    "videos = pd.read_csv('2017Video.csv')"
   ]
  },
  {
   "cell_type": "code",
   "execution_count": 12,
   "metadata": {},
   "outputs": [
    {
     "name": "stdout",
     "output_type": "stream",
     "text": [
      "(748, 4)\n",
      "(1038, 4)\n"
     ]
    }
   ],
   "source": [
    "print(videos.shape)\n",
    "print(marks.shape)"
   ]
  },
  {
   "cell_type": "markdown",
   "metadata": {},
   "source": [
    "## The first thing I did was to remove the NaNs out of the UserName column.\n",
    "## The UserName column is the column that I will merge by.  It contains the student numbers of each student."
   ]
  },
  {
   "cell_type": "code",
   "execution_count": 14,
   "metadata": {},
   "outputs": [],
   "source": [
    "marks.dropna(subset = ['UserName'], inplace = True)  ## Inplace = True means that it will save the change to the marks DF\n",
    "videos.dropna(subset = ['UserName'], inplace = True)"
   ]
  },
  {
   "cell_type": "code",
   "execution_count": 15,
   "metadata": {},
   "outputs": [
    {
     "name": "stdout",
     "output_type": "stream",
     "text": [
      "(748, 4)\n",
      "(1036, 4)\n"
     ]
    }
   ],
   "source": [
    "print(videos.shape)\n",
    "print(marks.shape)"
   ]
  },
  {
   "cell_type": "markdown",
   "metadata": {},
   "source": [
    "# We can see below that the Marks Username and Videos Username columns are different datatypes, so this won't work when trying to merge.   So we need to convert the series into the same type, int."
   ]
  },
  {
   "cell_type": "code",
   "execution_count": 5,
   "metadata": {
    "scrolled": true
   },
   "outputs": [
    {
     "name": "stdout",
     "output_type": "stream",
     "text": [
      "float64\n",
      "int64\n"
     ]
    }
   ],
   "source": [
    "print(marks.UserName.dtype)  ## we want to merge the DFs on Username, but it wont work if they are of different types\n",
    "print(videos.UserName.dtype)"
   ]
  },
  {
   "cell_type": "code",
   "execution_count": 6,
   "metadata": {},
   "outputs": [
    {
     "name": "stdout",
     "output_type": "stream",
     "text": [
      "int64\n",
      "int64\n"
     ]
    }
   ],
   "source": [
    "marks.UserName = marks.UserName.astype(np.int64)\n",
    "videos.UserName = videos.UserName.astype(np.int64)\n",
    "print(marks.UserName.dtype)\n",
    "print(videos.UserName.dtype)"
   ]
  },
  {
   "cell_type": "code",
   "execution_count": 7,
   "metadata": {},
   "outputs": [
    {
     "name": "stdout",
     "output_type": "stream",
     "text": [
      "Marks\n",
      "============\n",
      "<class 'pandas.core.frame.DataFrame'>\n",
      "Int64Index: 1036 entries, 0 to 1037\n",
      "Data columns (total 4 columns):\n",
      "UserName     1036 non-null int64\n",
      "Name         1036 non-null object\n",
      "novexam      1036 non-null object\n",
      "PHYS1015A    1036 non-null object\n",
      "dtypes: int64(1), object(3)\n",
      "memory usage: 40.5+ KB\n",
      "None\n",
      "============================\n",
      "Videos\n",
      "=============\n",
      "<class 'pandas.core.frame.DataFrame'>\n",
      "Int64Index: 748 entries, 0 to 747\n",
      "Data columns (total 4 columns):\n",
      "UserName                     748 non-null int64\n",
      "Views                        748 non-null int64\n",
      "Minutes Delivered            748 non-null float64\n",
      "Average Minutes Delivered    748 non-null float64\n",
      "dtypes: float64(2), int64(2)\n",
      "memory usage: 29.2 KB\n",
      "None\n"
     ]
    }
   ],
   "source": [
    "print('Marks')\n",
    "print('============')\n",
    "print(marks.info())\n",
    "print('============================')\n",
    "print('Videos')\n",
    "print('=============')\n",
    "print(videos.info())"
   ]
  },
  {
   "cell_type": "markdown",
   "metadata": {},
   "source": [
    "# Next we use the pd.merge function to merge based on UserName"
   ]
  },
  {
   "cell_type": "code",
   "execution_count": 100,
   "metadata": {
    "scrolled": true
   },
   "outputs": [
    {
     "data": {
      "text/html": [
       "<div>\n",
       "<style scoped>\n",
       "    .dataframe tbody tr th:only-of-type {\n",
       "        vertical-align: middle;\n",
       "    }\n",
       "\n",
       "    .dataframe tbody tr th {\n",
       "        vertical-align: top;\n",
       "    }\n",
       "\n",
       "    .dataframe thead th {\n",
       "        text-align: right;\n",
       "    }\n",
       "</style>\n",
       "<table border=\"1\" class=\"dataframe\">\n",
       "  <thead>\n",
       "    <tr style=\"text-align: right;\">\n",
       "      <th></th>\n",
       "      <th>UserName</th>\n",
       "      <th>Name</th>\n",
       "      <th>novexam</th>\n",
       "      <th>PHYS1015A</th>\n",
       "      <th>Views</th>\n",
       "      <th>Minutes Delivered</th>\n",
       "      <th>Average Minutes Delivered</th>\n",
       "    </tr>\n",
       "  </thead>\n",
       "  <tbody>\n",
       "    <tr>\n",
       "      <th>0</th>\n",
       "      <td>1624498.0</td>\n",
       "      <td>Ambrose ¸ Mark</td>\n",
       "      <td>53</td>\n",
       "      <td>59</td>\n",
       "      <td>20</td>\n",
       "      <td>77.793184</td>\n",
       "      <td>3.889659</td>\n",
       "    </tr>\n",
       "    <tr>\n",
       "      <th>1</th>\n",
       "      <td>1722250.0</td>\n",
       "      <td>Appalsamy ¸ Rochelle</td>\n",
       "      <td>17</td>\n",
       "      <td>41</td>\n",
       "      <td>59</td>\n",
       "      <td>359.662744</td>\n",
       "      <td>6.095979</td>\n",
       "    </tr>\n",
       "    <tr>\n",
       "      <th>2</th>\n",
       "      <td>721573.0</td>\n",
       "      <td>Asvat ¸ Naeem</td>\n",
       "      <td>59</td>\n",
       "      <td>u</td>\n",
       "      <td>6</td>\n",
       "      <td>51.543945</td>\n",
       "      <td>8.590658</td>\n",
       "    </tr>\n",
       "    <tr>\n",
       "      <th>3</th>\n",
       "      <td>1693702.0</td>\n",
       "      <td>Atsango ¸ Valentine</td>\n",
       "      <td>45</td>\n",
       "      <td>45</td>\n",
       "      <td>2</td>\n",
       "      <td>7.695481</td>\n",
       "      <td>3.847740</td>\n",
       "    </tr>\n",
       "    <tr>\n",
       "      <th>4</th>\n",
       "      <td>1617637.0</td>\n",
       "      <td>Babane ¸ Vusi</td>\n",
       "      <td>62</td>\n",
       "      <td>67</td>\n",
       "      <td>62</td>\n",
       "      <td>468.412196</td>\n",
       "      <td>7.555035</td>\n",
       "    </tr>\n",
       "  </tbody>\n",
       "</table>\n",
       "</div>"
      ],
      "text/plain": [
       "    UserName                    Name novexam PHYS1015A  Views  \\\n",
       "0  1624498.0        Ambrose ¸ Mark        53        59     20   \n",
       "1  1722250.0  Appalsamy ¸ Rochelle        17        41     59   \n",
       "2   721573.0         Asvat ¸ Naeem        59         u      6   \n",
       "3  1693702.0   Atsango ¸ Valentine        45        45      2   \n",
       "4  1617637.0         Babane ¸ Vusi        62        67     62   \n",
       "\n",
       "   Minutes Delivered  Average Minutes Delivered  \n",
       "0          77.793184                   3.889659  \n",
       "1         359.662744                   6.095979  \n",
       "2          51.543945                   8.590658  \n",
       "3           7.695481                   3.847740  \n",
       "4         468.412196                   7.555035  "
      ]
     },
     "execution_count": 100,
     "metadata": {},
     "output_type": "execute_result"
    }
   ],
   "source": [
    "main = pd.merge(marks,videos, on = 'UserName')\n",
    "main.head()"
   ]
  },
  {
   "cell_type": "code",
   "execution_count": 11,
   "metadata": {},
   "outputs": [
    {
     "name": "stdout",
     "output_type": "stream",
     "text": [
      "(748, 4)\n",
      "(1036, 4)\n",
      "(754, 7)\n"
     ]
    }
   ],
   "source": [
    "print(videos.shape)\n",
    "print(marks.shape)\n",
    "print(main.shape)\n"
   ]
  },
  {
   "cell_type": "code",
   "execution_count": 12,
   "metadata": {
    "scrolled": true
   },
   "outputs": [
    {
     "data": {
      "text/html": [
       "<div>\n",
       "<style scoped>\n",
       "    .dataframe tbody tr th:only-of-type {\n",
       "        vertical-align: middle;\n",
       "    }\n",
       "\n",
       "    .dataframe tbody tr th {\n",
       "        vertical-align: top;\n",
       "    }\n",
       "\n",
       "    .dataframe thead th {\n",
       "        text-align: right;\n",
       "    }\n",
       "</style>\n",
       "<table border=\"1\" class=\"dataframe\">\n",
       "  <thead>\n",
       "    <tr style=\"text-align: right;\">\n",
       "      <th></th>\n",
       "      <th>UserName</th>\n",
       "      <th>Name</th>\n",
       "      <th>novexam</th>\n",
       "      <th>PHYS1015A</th>\n",
       "      <th>Views</th>\n",
       "      <th>Minutes Delivered</th>\n",
       "      <th>Average Minutes Delivered</th>\n",
       "    </tr>\n",
       "  </thead>\n",
       "  <tbody>\n",
       "    <tr>\n",
       "      <th>541</th>\n",
       "      <td>1358583</td>\n",
       "      <td>Pahad ¸ Raeesa</td>\n",
       "      <td>73</td>\n",
       "      <td>61</td>\n",
       "      <td>19</td>\n",
       "      <td>96.620138</td>\n",
       "      <td>5.08527</td>\n",
       "    </tr>\n",
       "  </tbody>\n",
       "</table>\n",
       "</div>"
      ],
      "text/plain": [
       "     UserName              Name novexam PHYS1015A  Views  Minutes Delivered  \\\n",
       "541   1358583  Pahad ¸ Raeesa        73        61     19          96.620138   \n",
       "\n",
       "     Average Minutes Delivered  \n",
       "541                    5.08527  "
      ]
     },
     "execution_count": 12,
     "metadata": {},
     "output_type": "execute_result"
    }
   ],
   "source": [
    "main[main.UserName == 1358583]"
   ]
  },
  {
   "cell_type": "code",
   "execution_count": 93,
   "metadata": {},
   "outputs": [
    {
     "ename": "NameError",
     "evalue": "name 'main' is not defined",
     "output_type": "error",
     "traceback": [
      "\u001b[1;31m---------------------------------------------------------------------------\u001b[0m",
      "\u001b[1;31mNameError\u001b[0m                                 Traceback (most recent call last)",
      "\u001b[1;32m<ipython-input-93-dbe3de7719c5>\u001b[0m in \u001b[0;36m<module>\u001b[1;34m()\u001b[0m\n\u001b[1;32m----> 1\u001b[1;33m \u001b[0mmain\u001b[0m\u001b[1;33m.\u001b[0m\u001b[0mhead\u001b[0m\u001b[1;33m\u001b[0m\u001b[0m\n\u001b[0m",
      "\u001b[1;31mNameError\u001b[0m: name 'main' is not defined"
     ]
    }
   ],
   "source": [
    "main.head"
   ]
  },
  {
   "cell_type": "code",
   "execution_count": 13,
   "metadata": {
    "scrolled": true
   },
   "outputs": [],
   "source": [
    "%matplotlib inline"
   ]
  },
  {
   "cell_type": "code",
   "execution_count": 15,
   "metadata": {
    "scrolled": false
   },
   "outputs": [
    {
     "data": {
      "text/plain": [
       "Text(0,0.5,'Final marks [%]')"
      ]
     },
     "execution_count": 15,
     "metadata": {},
     "output_type": "execute_result"
    },
    {
     "data": {
      "image/png": "[encoded data removed]",
      "text/plain": [
       "<Figure size 432x288 with 1 Axes>"
      ]
     },
     "metadata": {},
     "output_type": "display_data"
    }
   ],
   "source": [
    "plt.plot(main['Minutes Delivered'], main.PHYS1015A,'r.')\n",
    "plt.xlabel('Minutes watched [min]')\n",
    "plt.ylabel('Final marks [%]')"
   ]
  },
  {
   "cell_type": "markdown",
   "metadata": {},
   "source": [
    "# Merge_files function"
   ]
  },
  {
   "cell_type": "code",
   "execution_count": 175,
   "metadata": {},
   "outputs": [],
   "source": [
    "def merge_files(df_m, df_v, merge_column, xPlot, yPlot):\n",
    "    '''This function takes in two spreadsheets, df_m which includes student marks and student numbers & df_v which \n",
    "    includes student number and amount of videos watched.  The aim is to plot, for each student, the mark \n",
    "    vs the amount of videos watched.  First this function converts the spreadsheets to dataframes; then it removes\n",
    "    any NANs in the column that we want to merge on  (merge_column).  Then it makes sure the merge_columns for both\n",
    "    DFs is the same datatype.  Then it plots it.\n",
    "    \n",
    "    df_m: marks spreadsheet \\n\n",
    "    df_v: videos spreadsheet \\n\n",
    "    merge_column:  column that we want to merge the two DFs on \\n\n",
    "    xPlot: the minutes of videos watched, or number of views of videos\n",
    "    yPlot: the marks for any assessment, like exam or semester test or final mark\n",
    "    '''\n",
    "    \n",
    "    marks = pd.read_csv(df_m,encoding='windows-1252')  #convert into DF\n",
    "    videos = pd.read_csv(df_v)  ## convert into DF\n",
    "    print(marks.head())\n",
    "    print('=============================================================')\n",
    "    print('=============================================================')\n",
    "    print(videos.head())\n",
    "    print('=================')\n",
    "    print('Original Marks DF shape is {}:'.format(marks.shape))\n",
    "    print('=================')\n",
    "    print('Original Videos DF shape is {}:'.format(videos.shape))\n",
    "    marks.dropna(subset = [merge_column], inplace = True)  # Drop NAN ## Inplace = True means that it will save the change to the marks DF\n",
    "    videos.dropna(subset = [merge_column], inplace = True) # Drop NAN \n",
    "    print('Marks DF shape is {}'.format(marks.shape))\n",
    "    print('=================')\n",
    "    print('Videos DF shape is {}'.format(videos.shape))\n",
    "    ## Change the column to the same datatype, int64\n",
    "    marks[merge_column] = marks[merge_column].astype(np.int64)\n",
    "    videos[merge_column] = videos[merge_column].astype(np.int64)\n",
    "    print('=================')\n",
    "    print('Marks UserName dtype is {}'.format(marks[merge_column].dtype))\n",
    "    print('=================')\n",
    "    print('Videos UserName dtype is {}'.format(videos[merge_column].dtype))\n",
    "    ##  Now we merge the two files based on \n",
    "    main = pd.merge(marks,videos, on = merge_column)\n",
    "    print('=================')\n",
    "    print('The merged file is called {} and it has a shape of {}.'.format('main', main.shape))\n",
    "    ## Now we plot \n",
    "    plt.plot(main[xPlot], main[yPlot],'r.')\n",
    "    plt.xlabel('Minutes watched [min]')\n",
    "    plt.ylabel('Final marks [%]')\n",
    "    print('=================')\n",
    "    print('The statistical info on the minutes watched is:')\n",
    "    print(main[xPlot].describe())\n",
    "    print('=================')\n",
    "    print('The statistical info on the marks is:')\n",
    "    print('To be completed...')"
   ]
  },
  {
   "cell_type": "code",
   "execution_count": 176,
   "metadata": {},
   "outputs": [
    {
     "name": "stdout",
     "output_type": "stream",
     "text": [
      "    UserName                    Name novexam PHYS1015A\n",
      "0  1624498.0        Ambrose ¸ Mark        53        59\n",
      "1  1603354.0     Apollis ¸ Mikaeel        77        73\n",
      "2  1722250.0  Appalsamy ¸ Rochelle        17        41\n",
      "3   721573.0         Asvat ¸ Naeem        59         u\n",
      "4  1693702.0   Atsango ¸ Valentine        45        45\n",
      "=============================================================\n",
      "=============================================================\n",
      "   UserName  Views  Minutes Delivered  Average Minutes Delivered\n",
      "0   1042701    106         856.850784                   8.083498\n",
      "1   1061733      8          63.036341                   7.879543\n",
      "2   1076559     22         109.114678                   4.959758\n",
      "3   1124477      1           1.437761                   1.437761\n",
      "4   1155040    204        1681.133483                   8.240850\n",
      "=================\n",
      "Original Marks DF shape is (1038, 4):\n",
      "=================\n",
      "Original Videos DF shape is (748, 4):\n",
      "Marks DF shape is (1036, 4)\n",
      "=================\n",
      "Videos DF shape is (748, 4)\n",
      "=================\n",
      "Marks UserName dtype is int64\n",
      "=================\n",
      "Videos UserName dtype is int64\n",
      "=================\n",
      "The merged file is called main and it has a shape of (754, 7).\n",
      "=================\n",
      "The statistical info on the minutes watched is:\n",
      "count     754.000000\n",
      "mean      339.719885\n",
      "std       359.878366\n",
      "min         0.076140\n",
      "25%        81.035638\n",
      "50%       238.137692\n",
      "75%       489.041920\n",
      "max      3313.516561\n",
      "Name: Minutes Delivered, dtype: float64\n",
      "=================\n",
      "The statistical info on the marks is:\n",
      "To be completed...\n"
     ]
    },
    {
     "data": {
      "image/png": "[encoded data removed]",
      "text/plain": [
       "<Figure size 432x288 with 1 Axes>"
      ]
     },
     "metadata": {},
     "output_type": "display_data"
    }
   ],
   "source": [
    "merge_files('2017MarksPrac.csv', '2017Video.csv', 'UserName','Minutes Delivered','PHYS1015A')"
   ]
  },
  {
   "cell_type": "code",
   "execution_count": 178,
   "metadata": {},
   "outputs": [
    {
     "data": {
      "text/plain": [
       "'This function takes in two spreadsheets, df_m which includes student marks and student numbers & df_v which \\n    includes student number and amount of videos watched.  The aim is to plot, for each student, the mark \\n    vs the amount of videos watched.  First this function converts the spreadsheets to dataframes; then it removes\\n    any NANs in the column that we want to merge on  (merge_column).  Then it makes sure the merge_columns for both\\n    DFs is the same datatype.  Then it plots it.\\n    \\n    df_m: marks spreadsheet \\n\\n    df_v: videos spreadsheet \\n\\n    merge_column:  column that we want to merge the two DFs on \\n\\n    xPlot: the minutes of videos watched, or number of views of videos\\n    yPlot: the marks for any assessment, like exam or semester test or final mark\\n    '"
      ]
     },
     "execution_count": 178,
     "metadata": {},
     "output_type": "execute_result"
    }
   ],
   "source": [
    "merge_files.__doc__"
   ]
  },
  {
   "cell_type": "code",
   "execution_count": null,
   "metadata": {},
   "outputs": [],
   "source": []
  }
 ],
 "metadata": {
  "kernelspec": {
   "display_name": "Python 3",
   "language": "python",
   "name": "python3"
  },
  "language_info": {
   "codemirror_mode": {
    "name": "ipython",
    "version": 3
   },
   "file_extension": ".py",
   "mimetype": "text/x-python",
   "name": "python",
   "nbconvert_exporter": "python",
   "pygments_lexer": "ipython3",
   "version": "3.6.5"
  }
 },
 "nbformat": 4,
 "nbformat_minor": 2
}
